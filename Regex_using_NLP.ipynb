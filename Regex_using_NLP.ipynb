{
 "cells": [
  {
   "cell_type": "code",
   "execution_count": 8,
   "id": "885f9e60-2de3-4ea5-a76f-ad8b7a0b7a5c",
   "metadata": {},
   "outputs": [],
   "source": [
    "import re\n",
    "with open(\"miracle-in-the-andes.txt\",\"r\",encoding='utf-8') as file:\n",
    "    book = file.read()\n",
    "\n",
    "    \n",
    "patt = re.compile(\"[a-zA-Z]+\")\n",
    "found = re.findall(patt,book.lower())"
   ]
  },
  {
   "cell_type": "code",
   "execution_count": 55,
   "id": "56c32b2d-4d2f-4464-9d5e-1aa481f2b8d5",
   "metadata": {},
   "outputs": [],
   "source": [
    "d = {}\n",
    "for word in found:\n",
    "    if word in d.keys():\n",
    "        d[word] = d[word] +1\n",
    "    else:\n",
    "        d[word] = 1\n",
    "        \n",
    "tup = [(value, key) for key,value in d.items()]\n",
    "d_list = sorted(tup, reverse = True)\n"
   ]
  },
  {
   "cell_type": "markdown",
   "id": "29cdd084-bd9a-490e-a464-ed57e2aa083b",
   "metadata": {},
   "source": [
    "# The Most used words (non-Articles)"
   ]
  },
  {
   "cell_type": "code",
   "execution_count": 56,
   "id": "69ffdb8a-895b-4896-a83d-fd17025f0e7e",
   "metadata": {},
   "outputs": [
    {
     "data": {
      "text/plain": [
       "[('would', 575),\n",
       " ('us', 519),\n",
       " ('said', 292),\n",
       " ('roberto', 284),\n",
       " ('could', 252),\n",
       " ('one', 249),\n",
       " ('snow', 227),\n",
       " ('mountain', 183),\n",
       " ('time', 182),\n",
       " ('like', 165)]"
      ]
     },
     "execution_count": 56,
     "metadata": {},
     "output_type": "execute_result"
    }
   ],
   "source": [
    "import nltk\n",
    "from nltk.corpus import stopwords\n",
    "english_words = stopwords.words(\"english\")\n",
    "filtered_words = []\n",
    "for count,word in d_list:\n",
    "    if word not in english_words:\n",
    "        filtered_words.append((word,count))\n",
    "filtered_words[0:10]"
   ]
  },
  {
   "cell_type": "markdown",
   "id": "f409d14f-4484-4c3c-b695-85ee67fddecc",
   "metadata": {},
   "source": [
    "# Sentiment Analysis"
   ]
  },
  {
   "cell_type": "markdown",
   "id": "dd9f9e74-d633-4cd5-b1cd-1574f1eefe22",
   "metadata": {},
   "source": [
    "### The whole book"
   ]
  },
  {
   "cell_type": "code",
   "execution_count": 65,
   "id": "95174805-24b1-41a0-bfc6-95cb961974e5",
   "metadata": {
    "tags": []
   },
   "outputs": [
    {
     "data": {
      "text/plain": [
       "{'neg': 0.116, 'neu': 0.76, 'pos': 0.125, 'compound': 1.0}"
      ]
     },
     "execution_count": 65,
     "metadata": {},
     "output_type": "execute_result"
    }
   ],
   "source": [
    "from nltk.sentiment import SentimentIntensityAnalyzer\n",
    "analyzer = SentimentIntensityAnalyzer()\n",
    "scores = analyzer.polarity_scores(book)\n",
    "scores"
   ]
  },
  {
   "cell_type": "markdown",
   "id": "31f08741-ea5b-4c3d-9c43-c650b8cf41ac",
   "metadata": {
    "tags": []
   },
   "source": [
    "### Chapters"
   ]
  },
  {
   "cell_type": "code",
   "execution_count": 73,
   "id": "b0a14c7d-5067-4aea-9d5a-767e24de63d1",
   "metadata": {},
   "outputs": [
    {
     "name": "stdout",
     "output_type": "stream",
     "text": [
      "1 {'neg': 0.061, 'neu': 0.779, 'pos': 0.16, 'compound': 1.0}\n",
      "2 {'neg': 0.12, 'neu': 0.726, 'pos': 0.154, 'compound': 0.9991}\n",
      "3 {'neg': 0.145, 'neu': 0.751, 'pos': 0.105, 'compound': -0.9999}\n",
      "4 {'neg': 0.141, 'neu': 0.721, 'pos': 0.138, 'compound': -0.9963}\n",
      "5 {'neg': 0.118, 'neu': 0.742, 'pos': 0.141, 'compound': 0.9997}\n",
      "6 {'neg': 0.124, 'neu': 0.761, 'pos': 0.115, 'compound': -0.9979}\n",
      "7 {'neg': 0.136, 'neu': 0.761, 'pos': 0.103, 'compound': -0.9999}\n",
      "8 {'neg': 0.12, 'neu': 0.786, 'pos': 0.094, 'compound': -0.9998}\n",
      "9 {'neg': 0.097, 'neu': 0.824, 'pos': 0.079, 'compound': -0.9996}\n",
      "10 {'neg': 0.086, 'neu': 0.733, 'pos': 0.181, 'compound': 1.0}\n"
     ]
    }
   ],
   "source": [
    "pattern = re.compile(\"Chapter [0-9]+\")\n",
    "chapters = re.split(pattern,book)\n",
    "chapters = chapters[1:]\n",
    "for nr,chapter in enumerate(chapters):\n",
    "    scores = analyzer.polarity_scores(chapter)\n",
    "    print(nr+1 , scores)\n"
   ]
  }
 ],
 "metadata": {
  "kernelspec": {
   "display_name": "Python 3 (ipykernel)",
   "language": "python",
   "name": "python3"
  },
  "language_info": {
   "codemirror_mode": {
    "name": "ipython",
    "version": 3
   },
   "file_extension": ".py",
   "mimetype": "text/x-python",
   "name": "python",
   "nbconvert_exporter": "python",
   "pygments_lexer": "ipython3",
   "version": "3.10.9"
  }
 },
 "nbformat": 4,
 "nbformat_minor": 5
}
