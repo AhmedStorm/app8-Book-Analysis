{
 "cells": [
  {
   "cell_type": "code",
   "execution_count": 51,
   "id": "b9c42b58-0f75-4496-840e-b184cbefa268",
   "metadata": {},
   "outputs": [],
   "source": [
    "with open(\"miracle-in-the-andes.txt\",\"r\", encoding = \"utf-8\") as file:\n",
    "    book = file.read()"
   ]
  },
  {
   "cell_type": "markdown",
   "id": "2e106d3e-2ba7-422b-9385-30cb5000811e",
   "metadata": {
    "jp-MarkdownHeadingCollapsed": true,
    "tags": []
   },
   "source": [
    "# Get Paragraphs contains \"Love\""
   ]
  },
  {
   "cell_type": "code",
   "execution_count": 87,
   "id": "310abf38-29c3-4756-969d-c77cda6e7b3c",
   "metadata": {},
   "outputs": [
    {
     "data": {
      "text/plain": [
       "60"
      ]
     },
     "execution_count": 87,
     "metadata": {},
     "output_type": "execute_result"
    }
   ],
   "source": [
    "import re\n",
    "pattern = re.compile(\"[A-Z]{1}[^\\n]*[^a-zA-Z]+love[^a-zA-Z]+[^\\n]*\")\n",
    "better = re.compile(\"[^\\n]+love[^\\n]+\")\n",
    "find = re.findall(better, book)\n",
    "len(find)"
   ]
  },
  {
   "cell_type": "markdown",
   "id": "4cfea54c-0689-473c-933f-f1b8ed7c4e23",
   "metadata": {},
   "source": [
    "# Get Chapters Title"
   ]
  },
  {
   "cell_type": "code",
   "execution_count": 92,
   "id": "2a7e912f-0bc6-4677-9a82-d0fb0a6ebb35",
   "metadata": {
    "tags": []
   },
   "outputs": [
    {
     "data": {
      "text/plain": [
       "['Before',\n",
       " 'Everything Precious',\n",
       " 'A Promise',\n",
       " 'Breathe Once More',\n",
       " 'Abandoned',\n",
       " 'Tomb',\n",
       " 'East',\n",
       " 'The Opposite of Death',\n",
       " 'I See a Man',\n",
       " 'After']"
      ]
     },
     "execution_count": 92,
     "metadata": {},
     "output_type": "execute_result"
    }
   ],
   "source": [
    "pat = re.compile(\"Chapter [0-9\\n]+[a-zA-Z ]*\")\n",
    "better1 = re.compile(\"([a-zA-Z ]+)\\n\\n\")\n",
    "find = re.findall(better1, book)\n",
    "# find = [item.strip(\"\\n\\n\") for item in find]\n",
    "find"
   ]
  },
  {
   "cell_type": "markdown",
   "id": "b0b2c6a9-4fe9-4ffa-b703-ba84bcb3d31a",
   "metadata": {},
   "source": [
    "# Function to get No. of words found"
   ]
  },
  {
   "cell_type": "code",
   "execution_count": 96,
   "id": "baa05149-77c5-4b51-88ec-f9a793a25afc",
   "metadata": {},
   "outputs": [],
   "source": [
    "def find(w):\n",
    "    w= w.lower()\n",
    "    pattern = re.compile(\"[a-zA-Z]+\")\n",
    "    dounf = re.findall(pattern,book.lower())\n",
    "    s = {}\n",
    "    for word in dounf:\n",
    "        if word in s.keys():\n",
    "            s[word] = s[word]+1\n",
    "        else:\n",
    "            s[word] = 1\n",
    "    try:\n",
    "        return s[w]\n",
    "    except:\n",
    "        return f\"This Word '{w}' doesn't exist\"\n",
    "        "
   ]
  },
  {
   "cell_type": "code",
   "execution_count": 97,
   "id": "f0d7ff1e-c078-4aec-a34d-41e7ab02b47c",
   "metadata": {},
   "outputs": [
    {
     "data": {
      "text/plain": [
       "\"This Word 'hate' doesn't exist\""
      ]
     },
     "execution_count": 97,
     "metadata": {},
     "output_type": "execute_result"
    }
   ],
   "source": [
    "find(\"hate\")"
   ]
  },
  {
   "cell_type": "code",
   "execution_count": 99,
   "id": "b364bd7b-a716-4b29-8bf1-e563afab30fd",
   "metadata": {},
   "outputs": [
    {
     "data": {
      "text/plain": [
       "83"
      ]
     },
     "execution_count": 99,
     "metadata": {},
     "output_type": "execute_result"
    }
   ],
   "source": [
    "find(\"love\")"
   ]
  }
 ],
 "metadata": {
  "kernelspec": {
   "display_name": "Python 3 (ipykernel)",
   "language": "python",
   "name": "python3"
  },
  "language_info": {
   "codemirror_mode": {
    "name": "ipython",
    "version": 3
   },
   "file_extension": ".py",
   "mimetype": "text/x-python",
   "name": "python",
   "nbconvert_exporter": "python",
   "pygments_lexer": "ipython3",
   "version": "3.10.9"
  }
 },
 "nbformat": 4,
 "nbformat_minor": 5
}
